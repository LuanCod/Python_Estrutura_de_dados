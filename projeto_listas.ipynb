{
 "cells": [
  {
   "cell_type": "code",
   "execution_count": null,
   "metadata": {},
   "outputs": [],
   "source": [
    "def exibir_tarefas(tarefas):\n",
    "    if tarefas:\n",
    "        print(\"Tarefas:\")\n",
    "        for i, tarefa in enumerate(tarefas, start=1):\n",
    "            print(f\"{i}. {tarefa}\")\n",
    "    else:\n",
    "        print(\"Nenhuma tarefa na lista.\")\n",
    "\n",
    "def adicionar_tarefa(tarefas):\n",
    "    nova_tarefa = input(\"Digite a nova tarefa: \")\n",
    "    tarefas.append(nova_tarefa)\n",
    "    print(f\"Tarefa '{nova_tarefa}' adicionada.\")\n",
    "\n",
    "def remover_tarefa(tarefas):\n",
    "    exibir_tarefas(tarefas)\n",
    "    try:\n",
    "        indice = int(input(\"Digite o número da tarefa a ser removida: \")) - 1\n",
    "        if 0 <= indice < len(tarefas):\n",
    "            tarefa_removida = tarefas.pop(indice)\n",
    "            print(f\"Tarefa '{tarefa_removida}' removida.\")\n",
    "        else:\n",
    "            print(\"Número da tarefa inválido.\")\n",
    "    except ValueError:\n",
    "        print(\"Por favor, digite um número válido.\")\n",
    "\n",
    "def main():\n",
    "    tarefas = []\n",
    "    while True:\n",
    "        print(\"\\nMenu:\")\n",
    "        print(\"1. Exibir tarefas\")\n",
    "        print(\"2. Adicionar tarefa\")\n",
    "        print(\"3. Remover tarefa\")\n",
    "        print(\"4. Sair\")\n",
    "\n",
    "        escolha = input(\"Escolha uma opção: \")\n",
    "        if escolha == '1':\n",
    "            exibir_tarefas(tarefas)\n",
    "        elif escolha == '2':\n",
    "            adicionar_tarefa(tarefas)\n",
    "        elif escolha == '3':\n",
    "            remover_tarefa(tarefas)\n",
    "        elif escolha == '4':\n",
    "            print(\"Saindo...\")\n",
    "            break\n",
    "        else:\n",
    "            print(\"Opção inválida. Tente novamente.\")\n",
    "\n",
    "if __name__ == \"__main__\":\n",
    "    main()"
   ]
  }
 ],
 "metadata": {
  "kernelspec": {
   "display_name": "Python 3",
   "language": "python",
   "name": "python3"
  },
  "language_info": {
   "codemirror_mode": {
    "name": "ipython",
    "version": 3
   },
   "file_extension": ".py",
   "mimetype": "text/x-python",
   "name": "python",
   "nbconvert_exporter": "python",
   "pygments_lexer": "ipython3",
   "version": "3.11.9"
  }
 },
 "nbformat": 4,
 "nbformat_minor": 2
}
