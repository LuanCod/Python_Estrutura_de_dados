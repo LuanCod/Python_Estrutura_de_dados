{
 "cells": [
  {
   "cell_type": "code",
   "execution_count": null,
   "metadata": {},
   "outputs": [],
   "source": [
    "# Função para criar um conjunto a partir de uma lista de números\n",
    "def criar_conjunto():\n",
    "    numeros = input(\"Digite números separados por espaço: \")\n",
    "    return set(map(int, numeros.split()))\n",
    "\n",
    "# Criar dois conjuntos\n",
    "print(\"Criando o primeiro conjunto:\")\n",
    "conjunto_a = criar_conjunto()\n",
    "\n",
    "print(\"Criando o segundo conjunto:\")\n",
    "conjunto_b = criar_conjunto()\n",
    "\n",
    "# União dos conjuntos\n",
    "uniao = conjunto_a | conjunto_b\n",
    "print(\"União:\", uniao)\n",
    "\n",
    "# Interseção dos conjuntos\n",
    "intersecao = conjunto_a & conjunto_b\n",
    "print(\"Interseção:\", intersecao)\n",
    "\n",
    "# Diferença (A - B)\n",
    "diferenca_a_b = conjunto_a - conjunto_b\n",
    "print(\"Diferença (A - B):\", diferenca_a_b)\n",
    "\n",
    "# Diferença (B - A)\n",
    "diferenca_b_a = conjunto_b - conjunto_a\n",
    "print(\"Diferença (B - A):\", diferenca_b_a)\n",
    "\n",
    "# Verificando a pertença de um elemento\n",
    "elemento = int(input(\"Digite um número para verificar se está no primeiro conjunto: \"))\n",
    "if elemento in conjunto_a:\n",
    "    print(f\"{elemento} está em conjunto_a\")\n",
    "else:\n",
    "    print(f\"{elemento} não está em conjunto_a\")\n"
   ]
  }
 ],
 "metadata": {
  "kernelspec": {
   "display_name": "Python 3",
   "language": "python",
   "name": "python3"
  },
  "language_info": {
   "codemirror_mode": {
    "name": "ipython",
    "version": 3
   },
   "file_extension": ".py",
   "mimetype": "text/x-python",
   "name": "python",
   "nbconvert_exporter": "python",
   "pygments_lexer": "ipython3",
   "version": "3.11.9"
  }
 },
 "nbformat": 4,
 "nbformat_minor": 2
}
