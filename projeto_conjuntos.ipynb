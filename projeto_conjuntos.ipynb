{
 "cells": [
  {
   "cell_type": "code",
   "execution_count": null,
   "metadata": {},
   "outputs": [],
   "source": [
    "def criar_conjunto(nome):\n",
    "    while True:\n",
    "        try:\n",
    "            entrada = input(f\"Digite os números do conjunto {nome}, separados por espaço: \")\n",
    "            conjunto = set(map(int, entrada.split()))\n",
    "            return conjunto\n",
    "        except ValueError:\n",
    "            print(\"Entrada inválida. Digite apenas números inteiros separados por espaço.\")\n",
    "\n",
    "def exibir_operacoes(a, b):\n",
    "    print(\"\\n📌 Operações com conjuntos:\")\n",
    "    print(f\"🔹 União (A ∪ B): {a | b}\")\n",
    "    print(f\"🔹 Interseção (A ∩ B): {a & b}\")\n",
    "    print(f\"🔹 Diferença (A - B): {a - b}\")\n",
    "    print(f\"🔹 Diferença (B - A): {b - a}\")\n",
    "\n",
    "def verificar_pertenca(conjunto):\n",
    "    try:\n",
    "        elemento = int(input(\"\\nDigite um número para verificar se está no conjunto A: \"))\n",
    "        if elemento in conjunto:\n",
    "            print(f\"✅ {elemento} pertence ao conjunto A.\")\n",
    "        else:\n",
    "            print(f\"❌ {elemento} não pertence ao conjunto A.\")\n",
    "    except ValueError:\n",
    "        print(\"Entrada inválida. Digite um número inteiro.\")\n",
    "\n",
    "def main():\n",
    "    print(\"=== Operações com Conjuntos em Python ===\")\n",
    "    conjunto_a = criar_conjunto(\"A\")\n",
    "    conjunto_b = criar_conjunto(\"B\")\n",
    "    \n",
    "    exibir_operacoes(conjunto_a, conjunto_b)\n",
    "    verificar_pertenca(conjunto_a)\n",
    "\n",
    "if __name__ == \"__main__\":\n",
    "    main()"
   ]
  }
 ],
 "metadata": {
  "kernelspec": {
   "display_name": "Python 3",
   "language": "python",
   "name": "python3"
  },
  "language_info": {
   "codemirror_mode": {
    "name": "ipython",
    "version": 3
   },
   "file_extension": ".py",
   "mimetype": "text/x-python",
   "name": "python",
   "nbconvert_exporter": "python",
   "pygments_lexer": "ipython3",
   "version": "3.13.3"
  }
 },
 "nbformat": 4,
 "nbformat_minor": 2
}
