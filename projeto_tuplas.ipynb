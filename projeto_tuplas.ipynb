{
 "cells": [
  {
   "cell_type": "markdown",
   "metadata": {},
   "source": [
    "# Cadastro de pessoas"
   ]
  },
  {
   "cell_type": "code",
   "execution_count": 1,
   "metadata": {},
   "outputs": [
    {
     "name": "stdout",
     "output_type": "stream",
     "text": [
      "Nome: Alice, Idade: 30, Cidade: São Paulo\n",
      "Nome: Bob, Idade: 25, Cidade: Rio de Janeiro\n",
      "Nome: Charlie, Idade: 35, Cidade: Belo Horizonte\n"
     ]
    }
   ],
   "source": [
    "# Lista de pessoas, onde cada pessoa é representada por uma tupla\n",
    "pessoas = [\n",
    "    (\"Alice\", 30, \"São Paulo\"),\n",
    "    (\"Bob\", 25, \"Rio de Janeiro\"),\n",
    "    (\"Charlie\", 35, \"Belo Horizonte\")\n",
    "]\n",
    "\n",
    "# Função para exibir informações sobre as pessoas\n",
    "def exibir_informacoes(pessoas):\n",
    "    for pessoa in pessoas:\n",
    "        nome, idade, cidade = pessoa \n",
    "        # Desempacotando a tupla\n",
    "        print(f\"Nome: {nome}, Idade: {idade}, Cidade: {cidade}\")\n",
    "\n",
    "# Chamando a função para exibir as informações\n",
    "exibir_informacoes(pessoas)"
   ]
  }
 ],
 "metadata": {
  "kernelspec": {
   "display_name": "Python 3",
   "language": "python",
   "name": "python3"
  },
  "language_info": {
   "codemirror_mode": {
    "name": "ipython",
    "version": 3
   },
   "file_extension": ".py",
   "mimetype": "text/x-python",
   "name": "python",
   "nbconvert_exporter": "python",
   "pygments_lexer": "ipython3",
   "version": "3.11.9"
  }
 },
 "nbformat": 4,
 "nbformat_minor": 2
}
