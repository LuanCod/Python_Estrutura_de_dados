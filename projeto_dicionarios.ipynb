{
 "cells": [
  {
   "cell_type": "markdown",
   "metadata": {},
   "source": [
    "# Cadastro de contatos"
   ]
  },
  {
   "cell_type": "code",
   "execution_count": null,
   "metadata": {},
   "outputs": [],
   "source": [
    "def menu():\n",
    "    print(\"\\nMenu:\")\n",
    "    print(\"1. Adicionar Contato\")\n",
    "    print(\"2. Listar Contatos\")\n",
    "    print(\"3. Buscar Contato\")\n",
    "    print(\"4. Sair\")\n",
    "\n",
    "def adicionar_contato(contatos):\n",
    "    nome = input(\"Digite o nome do contato: \")\n",
    "    telefone = input(\"Digite o telefone do contato: \")\n",
    "    contatos[nome] = telefone\n",
    "    print(f\"Contato '{nome}' adicionado com sucesso!\")\n",
    "\n",
    "def listar_contatos(contatos):\n",
    "    if not contatos:\n",
    "        print(\"Nenhum contato cadastrado.\")\n",
    "    else:\n",
    "        print(\"\\nLista de Contatos:\")\n",
    "        for nome, telefone in contatos.items():\n",
    "            print(f\"{nome}: {telefone}\")\n",
    "\n",
    "def buscar_contato(contatos):\n",
    "    nome = input(\"Digite o nome do contato que deseja buscar: \")\n",
    "    if nome in contatos:\n",
    "        print(f\"{nome}: {contatos[nome]}\")\n",
    "    else:\n",
    "        print(\"Contato não encontrado.\")\n",
    "\n",
    "def main():\n",
    "    contatos = {}\n",
    "    while True:\n",
    "        menu()\n",
    "        opcao = input(\"Escolha uma opção: \")\n",
    "        if opcao == '1':\n",
    "            adicionar_contato(contatos)\n",
    "        elif opcao == '2':\n",
    "            listar_contatos(contatos)\n",
    "        elif opcao == '3':\n",
    "            buscar_contato(contatos)\n",
    "        elif opcao == '4':\n",
    "            print(\"Saindo do sistema...\")\n",
    "            break\n",
    "        else:\n",
    "            print(\"Opção inválida. Tente novamente.\")\n",
    "\n",
    "if __name__ == \"__main__\":\n",
    "    main()"
   ]
  }
 ],
 "metadata": {
  "kernelspec": {
   "display_name": "Python 3",
   "language": "python",
   "name": "python3"
  },
  "language_info": {
   "name": "python",
   "version": "3.11.9"
  }
 },
 "nbformat": 4,
 "nbformat_minor": 2
}
