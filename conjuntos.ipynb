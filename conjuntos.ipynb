{
 "cells": [
  {
   "cell_type": "markdown",
   "metadata": {},
   "source": [
    "# 📚 Conjuntos em Python"
   ]
  },
  {
   "cell_type": "markdown",
   "metadata": {},
   "source": [
    "# --------------------------------\n",
    "# 🔹 Criação de Conjuntos\n",
    "# --------------------------------"
   ]
  },
  {
   "cell_type": "code",
   "execution_count": 1,
   "metadata": {},
   "outputs": [
    {
     "name": "stdout",
     "output_type": "stream",
     "text": [
      "Conjunto 1: {3, 4, 5, 6}\n",
      "Conjunto 2: {1, 2, 3, 4}\n"
     ]
    }
   ],
   "source": [
    "# Usando a função set() para converter listas\n",
    "meu_conjunto1 = set([3, 4, 5, 6])\n",
    "print(f\"Conjunto 1: {meu_conjunto1}\")\n",
    "\n",
    "# Usando chaves {} diretamente para declarar\n",
    "meu_conjunto2 = {1, 2, 3, 4}\n",
    "print(f\"Conjunto 2: {meu_conjunto2}\")"
   ]
  },
  {
   "cell_type": "markdown",
   "metadata": {},
   "source": [
    "# --------------------------------\n",
    "# 🔹 Adicionando e Removendo Elementos\n",
    "# --------------------------------"
   ]
  },
  {
   "cell_type": "code",
   "execution_count": 2,
   "metadata": {},
   "outputs": [
    {
     "name": "stdout",
     "output_type": "stream",
     "text": [
      "Após adicionar 5: {1, 2, 3, 4, 5}\n",
      "Após remover 2: {1, 3, 4, 5}\n",
      "Após descartar 10 (sem erro): {1, 3, 4, 5}\n",
      "Erro ao remover elemento inexistente: 10\n"
     ]
    }
   ],
   "source": [
    "# Adicionar elemento\n",
    "meu_conjunto2.add(5)\n",
    "print(f\"Após adicionar 5: {meu_conjunto2}\")\n",
    "\n",
    "# Remover elemento existente\n",
    "meu_conjunto2.remove(2)\n",
    "print(f\"Após remover 2: {meu_conjunto2}\")\n",
    "\n",
    "# Remover elemento inexistente usando discard (não gera erro)\n",
    "meu_conjunto2.discard(10)\n",
    "print(f\"Após descartar 10 (sem erro): {meu_conjunto2}\")\n",
    "\n",
    "# Remover elemento inexistente usando remove (gera erro)\n",
    "try:\n",
    "    meu_conjunto2.remove(10)\n",
    "except KeyError as e:\n",
    "    print(f\"Erro ao remover elemento inexistente: {e}\")"
   ]
  },
  {
   "cell_type": "markdown",
   "metadata": {},
   "source": [
    "# --------------------------------\n",
    "# 🔹 Operações com Conjuntos\n",
    "# --------------------------------"
   ]
  },
  {
   "cell_type": "code",
   "execution_count": 4,
   "metadata": {},
   "outputs": [
    {
     "name": "stdout",
     "output_type": "stream",
     "text": [
      "União: {1, 2, 3, 4, 5}\n",
      "Interseção: {3}\n",
      "Diferença (A - B): {1, 2}\n",
      "Diferença Simétrica: {1, 2, 4, 5}\n"
     ]
    }
   ],
   "source": [
    "conjunto_a = {1, 2, 3}\n",
    "conjunto_b = {3, 4, 5}\n",
    "\n",
    "# União\n",
    "uniao = conjunto_a | conjunto_b\n",
    "print(f\"União: {uniao}\")\n",
    "\n",
    "# Interseção\n",
    "intersecao = conjunto_a & conjunto_b\n",
    "print(f\"Interseção: {intersecao}\")\n",
    "\n",
    "# Diferença\n",
    "diferenca = conjunto_a - conjunto_b\n",
    "print(f\"Diferença (A - B): {diferenca}\")\n",
    "\n",
    "# Diferença Simétrica\n",
    "diferenca_simetrica = conjunto_a ^ conjunto_b\n",
    "print(f\"Diferença Simétrica: {diferenca_simetrica}\")"
   ]
  },
  {
   "cell_type": "markdown",
   "metadata": {},
   "source": [
    "# --------------------------------\n",
    "# 🔹 Verificação de Pertinência\n",
    "# --------------------------------"
   ]
  },
  {
   "cell_type": "code",
   "execution_count": 6,
   "metadata": {},
   "outputs": [
    {
     "name": "stdout",
     "output_type": "stream",
     "text": [
      "3 está em conjunto_a? Sim\n",
      "6 está em conjunto_b? Não\n"
     ]
    }
   ],
   "source": [
    "print(f\"3 está em conjunto_a? {'Sim' if 3 in conjunto_a else 'Não'}\")\n",
    "print(f\"6 está em conjunto_b? {'Sim' if 6 in conjunto_b else 'Não'}\")"
   ]
  },
  {
   "cell_type": "markdown",
   "metadata": {},
   "source": [
    "# --------------------------------\n",
    "# 🔹 Remoção de Duplicatas\n",
    "# --------------------------------"
   ]
  },
  {
   "cell_type": "code",
   "execution_count": 7,
   "metadata": {},
   "outputs": [
    {
     "name": "stdout",
     "output_type": "stream",
     "text": [
      "Conjunto sem duplicatas: {1, 2, 3, 4, 5}\n"
     ]
    }
   ],
   "source": [
    "lista_com_duplicatas = [1, 2, 2, 3, 4, 4, 5]\n",
    "conjunto_unico = set(lista_com_duplicatas)\n",
    "print(f\"Conjunto sem duplicatas: {conjunto_unico}\")"
   ]
  }
 ],
 "metadata": {
  "kernelspec": {
   "display_name": "Python 3",
   "language": "python",
   "name": "python3"
  },
  "language_info": {
   "codemirror_mode": {
    "name": "ipython",
    "version": 3
   },
   "file_extension": ".py",
   "mimetype": "text/x-python",
   "name": "python",
   "nbconvert_exporter": "python",
   "pygments_lexer": "ipython3",
   "version": "3.11.9"
  }
 },
 "nbformat": 4,
 "nbformat_minor": 2
}
