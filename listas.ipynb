{
 "cells": [
  {
   "cell_type": "markdown",
   "id": "834131ba",
   "metadata": {},
   "source": [
    "# 📚 Listas em Python"
   ]
  },
  {
   "cell_type": "markdown",
   "id": "911d7584",
   "metadata": {},
   "source": [
    "# --------------------------------\n",
    "# 🔹 Criação de listas\n",
    "# --------------------------------"
   ]
  },
  {
   "cell_type": "code",
   "execution_count": 1,
   "id": "6168db71",
   "metadata": {},
   "outputs": [
    {
     "name": "stdout",
     "output_type": "stream",
     "text": [
      "Lista inicial: [1, 2, 3, 4, 5]\n"
     ]
    }
   ],
   "source": [
    "# Lista vazia\n",
    "lista = []\n",
    "\n",
    "# Lista com elementos\n",
    "lista = [1, 2, 3, 4, 5]\n",
    "print(f\"Lista inicial: {lista}\")"
   ]
  },
  {
   "cell_type": "markdown",
   "id": "eede52f7",
   "metadata": {},
   "source": [
    "# --------------------------------\n",
    "# 🔹 Acesso a elementos\n",
    "# --------------------------------"
   ]
  },
  {
   "cell_type": "code",
   "execution_count": 3,
   "id": "3fcea671",
   "metadata": {},
   "outputs": [
    {
     "name": "stdout",
     "output_type": "stream",
     "text": [
      "Primeiro elemento: 1\n",
      "Último elemento: 5\n"
     ]
    }
   ],
   "source": [
    "lista = [1, 2, 3, 4, 5]\n",
    "\n",
    "# Primeiro elemento\n",
    "print(f\"Primeiro elemento: {lista[0]}\")\n",
    "\n",
    "# Último elemento\n",
    "print(f\"Último elemento: {lista[-1]}\")"
   ]
  },
  {
   "cell_type": "markdown",
   "id": "75a38ae9",
   "metadata": {},
   "source": [
    "# --------------------------------\n",
    "# 🔹 Métodos de modificação\n",
    "# --------------------------------"
   ]
  },
  {
   "cell_type": "code",
   "execution_count": 4,
   "id": "2929b3b5",
   "metadata": {},
   "outputs": [
    {
     "name": "stdout",
     "output_type": "stream",
     "text": [
      "Após append(6): [1, 2, 3, 4, 5, 6]\n",
      "Após extend([7, 8]): [1, 2, 3, 4, 5, 6, 7, 8]\n",
      "Após insert(2, 10): [1, 2, 10, 3, 4, 5, 6, 7, 8]\n"
     ]
    }
   ],
   "source": [
    "lista = [1, 2, 3, 4, 5]\n",
    "\n",
    "# Adiciona um elemento ao final\n",
    "lista.append(6)\n",
    "print(f\"Após append(6): {lista}\")\n",
    "\n",
    "# Adiciona múltiplos elementos\n",
    "lista.extend([7, 8])\n",
    "print(f\"Após extend([7, 8]): {lista}\")\n",
    "\n",
    "# Insere elemento na posição 2\n",
    "lista.insert(2, 10)\n",
    "print(f\"Após insert(2, 10): {lista}\")"
   ]
  },
  {
   "cell_type": "markdown",
   "id": "4a170b3f",
   "metadata": {},
   "source": [
    "# --------------------------------\n",
    "# 🔹 Remoção de elementos\n",
    "# --------------------------------"
   ]
  },
  {
   "cell_type": "code",
   "execution_count": 5,
   "id": "ea4f589a",
   "metadata": {},
   "outputs": [
    {
     "name": "stdout",
     "output_type": "stream",
     "text": [
      "Após remove(2): [1, 3, 4, 5]\n",
      "Após pop(3): [1, 3, 4]\n"
     ]
    }
   ],
   "source": [
    "lista = [1, 2, 3, 4, 5]\n",
    "\n",
    "# Remove o valor 2\n",
    "lista.remove(2)\n",
    "print(f\"Após remove(2): {lista}\")\n",
    "\n",
    "# Remove elemento na posição 3\n",
    "lista.pop(3)\n",
    "print(f\"Após pop(3): {lista}\")"
   ]
  },
  {
   "cell_type": "markdown",
   "id": "e13cd258",
   "metadata": {},
   "source": [
    "# --------------------------------\n",
    "# 🔹 Consulta e informações\n",
    "# --------------------------------"
   ]
  },
  {
   "cell_type": "code",
   "execution_count": 6,
   "id": "15122fb5",
   "metadata": {},
   "outputs": [
    {
     "name": "stdout",
     "output_type": "stream",
     "text": [
      "Index do valor 1: 0\n",
      "Quantidade de 3: 3\n"
     ]
    }
   ],
   "source": [
    "lista = [1, 2, 3, 3, 3, 4, 5]\n",
    "\n",
    "# Índice da primeira ocorrência de 1\n",
    "print(f\"Index do valor 1: {lista.index(1)}\")\n",
    "\n",
    "# Contagem de quantas vezes 3 aparece\n",
    "print(f\"Quantidade de 3: {lista.count(3)}\")"
   ]
  },
  {
   "cell_type": "markdown",
   "id": "995e31fe",
   "metadata": {},
   "source": [
    "# --------------------------------\n",
    "# 🔹 Ordenação e inversão\n",
    "# --------------------------------"
   ]
  },
  {
   "cell_type": "code",
   "execution_count": 8,
   "id": "164feb7b",
   "metadata": {},
   "outputs": [
    {
     "name": "stdout",
     "output_type": "stream",
     "text": [
      "Ordenada: [1, 2, 3, 4, 5]\n",
      "Invertida: [5, 4, 3, 2, 1]\n"
     ]
    }
   ],
   "source": [
    "lista = [3, 1, 5, 4, 2]\n",
    "\n",
    "# Ordena a lista\n",
    "lista.sort()\n",
    "print(f\"Ordenada: {lista}\")\n",
    "\n",
    "# Inverte a ordem\n",
    "lista.reverse()\n",
    "print(f\"Invertida: {lista}\")"
   ]
  },
  {
   "cell_type": "markdown",
   "id": "69e2821e",
   "metadata": {},
   "source": [
    "# --------------------------------\n",
    "# 🔹 Limpeza da lista\n",
    "# --------------------------------"
   ]
  },
  {
   "cell_type": "code",
   "execution_count": 9,
   "id": "b7d8b554",
   "metadata": {},
   "outputs": [
    {
     "name": "stdout",
     "output_type": "stream",
     "text": [
      "Após clear(): []\n"
     ]
    }
   ],
   "source": [
    "lista = [1, 2, 3, 4, 5]\n",
    "lista.clear()\n",
    "print(f\"Após clear(): {lista}\")"
   ]
  },
  {
   "cell_type": "markdown",
   "id": "35746801",
   "metadata": {},
   "source": [
    "# --------------------------------\n",
    "# 🔹 Funções Úteis\n",
    "# --------------------------------"
   ]
  },
  {
   "cell_type": "code",
   "execution_count": 10,
   "id": "b3df9e64",
   "metadata": {},
   "outputs": [
    {
     "name": "stdout",
     "output_type": "stream",
     "text": [
      "Tamanho da lista: 5\n",
      "Menor valor: 1\n",
      "Maior valor: 5\n",
      "Soma dos elementos: 15\n"
     ]
    }
   ],
   "source": [
    "lista = [1, 2, 3, 4, 5]\n",
    "\n",
    "print(f\"Tamanho da lista: {len(lista)}\")\n",
    "print(f\"Menor valor: {min(lista)}\")\n",
    "print(f\"Maior valor: {max(lista)}\")\n",
    "print(f\"Soma dos elementos: {sum(lista)}\")"
   ]
  }
 ],
 "metadata": {
  "kernelspec": {
   "display_name": "Python 3",
   "language": "python",
   "name": "python3"
  },
  "language_info": {
   "codemirror_mode": {
    "name": "ipython",
    "version": 3
   },
   "file_extension": ".py",
   "mimetype": "text/x-python",
   "name": "python",
   "nbconvert_exporter": "python",
   "pygments_lexer": "ipython3",
   "version": "3.13.3"
  }
 },
 "nbformat": 4,
 "nbformat_minor": 5
}
