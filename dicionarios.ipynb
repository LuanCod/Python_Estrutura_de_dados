{
 "cells": [
  {
   "cell_type": "markdown",
   "metadata": {},
   "source": [
    "# 📚 Dicionários em Python"
   ]
  },
  {
   "cell_type": "markdown",
   "metadata": {},
   "source": [
    "# --------------------------------\n",
    "# 🔹 Criação de dicionários\n",
    "# --------------------------------"
   ]
  },
  {
   "cell_type": "code",
   "execution_count": 9,
   "metadata": {},
   "outputs": [
    {
     "name": "stdout",
     "output_type": "stream",
     "text": [
      "Dicionário inicial: {'nome': 'João', 'idade': 30, 'cidade': 'São Paulo'}\n"
     ]
    }
   ],
   "source": [
    "# Criando um dicionário vazio\n",
    "meu_dicionario = {}\n",
    "\n",
    "# Criando um dicionário com dados\n",
    "pessoa = {\n",
    "    \"nome\": \"João\",\n",
    "    \"idade\": 30,\n",
    "    \"cidade\": \"São Paulo\"\n",
    "}\n",
    "print(f\"Dicionário inicial: {pessoa}\")"
   ]
  },
  {
   "cell_type": "markdown",
   "metadata": {},
   "source": [
    "# --------------------------------\n",
    "# 🔹 Acesso a elementos\n",
    "# --------------------------------"
   ]
  },
  {
   "cell_type": "code",
   "execution_count": 10,
   "metadata": {},
   "outputs": [
    {
     "name": "stdout",
     "output_type": "stream",
     "text": [
      "Nome: João\n",
      "Idade: 30\n",
      "Cidade: São Paulo\n",
      "Estado: Não informado\n"
     ]
    }
   ],
   "source": [
    "# Acessando diretamente\n",
    "print(f\"Nome: {pessoa['nome']}\")\n",
    "print(f\"Idade: {pessoa['idade']}\")\n",
    "print(f\"Cidade: {pessoa['cidade']}\")\n",
    "\n",
    "# Usando get() (mais seguro, permite valor padrão)\n",
    "print(f\"Estado: {pessoa.get('estado', 'Não informado')}\")"
   ]
  },
  {
   "cell_type": "markdown",
   "metadata": {},
   "source": [
    "# --------------------------------\n",
    "# 🔹 Verificação de chave\n",
    "# --------------------------------"
   ]
  },
  {
   "cell_type": "code",
   "execution_count": 11,
   "metadata": {},
   "outputs": [
    {
     "name": "stdout",
     "output_type": "stream",
     "text": [
      "A idade é: 30\n"
     ]
    }
   ],
   "source": [
    "if \"idade\" in pessoa:\n",
    "    print(f\"A idade é: {pessoa['idade']}\")\n",
    "else:\n",
    "    print(\"Idade não informada.\")"
   ]
  },
  {
   "cell_type": "markdown",
   "metadata": {},
   "source": [
    "# --------------------------------\n",
    "# 🔹 Iteração sobre dicionários\n",
    "# --------------------------------"
   ]
  },
  {
   "cell_type": "code",
   "execution_count": 12,
   "metadata": {},
   "outputs": [
    {
     "name": "stdout",
     "output_type": "stream",
     "text": [
      "nome: João\n",
      "idade: 30\n",
      "cidade: São Paulo\n"
     ]
    }
   ],
   "source": [
    "# Iterando pelas chaves\n",
    "for chave in pessoa:\n",
    "    print(f\"{chave}: {pessoa[chave]}\")"
   ]
  },
  {
   "cell_type": "markdown",
   "metadata": {},
   "source": [
    "# --------------------------------\n",
    "# 🔹 Métodos úteis\n",
    "# --------------------------------"
   ]
  },
  {
   "cell_type": "code",
   "execution_count": 13,
   "metadata": {},
   "outputs": [
    {
     "name": "stdout",
     "output_type": "stream",
     "text": [
      "Chaves: ['nome', 'idade', 'cidade']\n",
      "Valores: ['João', 30, 'São Paulo']\n",
      "Itens: [('nome', 'João'), ('idade', 30), ('cidade', 'São Paulo')]\n"
     ]
    }
   ],
   "source": [
    "# Retorna todas as chaves\n",
    "print(f\"Chaves: {list(pessoa.keys())}\")\n",
    "\n",
    "# Retorna todos os valores\n",
    "print(f\"Valores: {list(pessoa.values())}\")\n",
    "\n",
    "# Retorna os pares chave-valor\n",
    "print(f\"Itens: {list(pessoa.items())}\")"
   ]
  },
  {
   "cell_type": "markdown",
   "metadata": {},
   "source": [
    "# --------------------------------\n",
    "# 🔹 Atualização de dados\n",
    "# --------------------------------"
   ]
  },
  {
   "cell_type": "code",
   "execution_count": 14,
   "metadata": {},
   "outputs": [
    {
     "name": "stdout",
     "output_type": "stream",
     "text": [
      "Dicionário atualizado: {'nome': 'João', 'idade': 31, 'cidade': 'Belo Horizonte'}\n"
     ]
    }
   ],
   "source": [
    "# Atualiza valores existentes e adiciona novos\n",
    "pessoa.update({\"cidade\": \"Belo Horizonte\", \"idade\": 31})\n",
    "print(f\"Dicionário atualizado: {pessoa}\")"
   ]
  },
  {
   "cell_type": "markdown",
   "metadata": {},
   "source": [
    "# --------------------------------\n",
    "# 🔹 Remoção de elementos\n",
    "# --------------------------------"
   ]
  },
  {
   "cell_type": "code",
   "execution_count": 15,
   "metadata": {},
   "outputs": [
    {
     "name": "stdout",
     "output_type": "stream",
     "text": [
      "Idade removida: 31\n",
      "Último item removido: ('cidade', 'Belo Horizonte')\n",
      "Dicionário após clear(): {}\n"
     ]
    }
   ],
   "source": [
    "# Remove uma chave e retorna seu valor\n",
    "idade = pessoa.pop(\"idade\")\n",
    "print(f\"Idade removida: {idade}\")\n",
    "\n",
    "# Remove e retorna o último item adicionado\n",
    "ultimo_item = pessoa.popitem()\n",
    "print(f\"Último item removido: {ultimo_item}\")\n",
    "\n",
    "# Limpa todo o dicionário\n",
    "pessoa.clear()\n",
    "print(f\"Dicionário após clear(): {pessoa}\")"
   ]
  },
  {
   "cell_type": "markdown",
   "metadata": {},
   "source": [
    "# --------------------------------\n",
    "# 🔹 Cópia de dicionário\n",
    "# --------------------------------"
   ]
  },
  {
   "cell_type": "code",
   "execution_count": 17,
   "metadata": {},
   "outputs": [
    {
     "name": "stdout",
     "output_type": "stream",
     "text": [
      "Cópia do dicionário: {'nome': 'João', 'idade': 30, 'cidade': 'São Paulo'}\n"
     ]
    }
   ],
   "source": [
    "pessoa = {\n",
    "    \"nome\": \"João\",\n",
    "    \"idade\": 30,\n",
    "    \"cidade\": \"São Paulo\"\n",
    "}\n",
    "\n",
    "copia = pessoa.copy()\n",
    "print(f\"Cópia do dicionário: {copia}\")"
   ]
  }
 ],
 "metadata": {
  "kernelspec": {
   "display_name": "Python 3",
   "language": "python",
   "name": "python3"
  },
  "language_info": {
   "codemirror_mode": {
    "name": "ipython",
    "version": 3
   },
   "file_extension": ".py",
   "mimetype": "text/x-python",
   "name": "python",
   "nbconvert_exporter": "python",
   "pygments_lexer": "ipython3",
   "version": "3.11.9"
  }
 },
 "nbformat": 4,
 "nbformat_minor": 2
}
