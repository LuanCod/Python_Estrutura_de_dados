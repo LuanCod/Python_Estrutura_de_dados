{
 "cells": [
  {
   "cell_type": "markdown",
   "metadata": {},
   "source": [
    "# 📚 Tuplas em Python"
   ]
  },
  {
   "cell_type": "markdown",
   "metadata": {},
   "source": [
    "# --------------------------------\n",
    "# 🔹 Criação de tuplas\n",
    "# --------------------------------"
   ]
  },
  {
   "cell_type": "code",
   "execution_count": 1,
   "metadata": {},
   "outputs": [
    {
     "name": "stdout",
     "output_type": "stream",
     "text": [
      "Tupla criada: (1, 2, 3, 'quatro', 5.0)\n"
     ]
    }
   ],
   "source": [
    "# Tupla com diferentes tipos de dados\n",
    "minha_tupla = (1, 2, 3, \"quatro\", 5.0)\n",
    "print(f\"Tupla criada: {minha_tupla}\")"
   ]
  },
  {
   "cell_type": "markdown",
   "metadata": {},
   "source": [
    "# --------------------------------\n",
    "# 🔹 Acessando elementos\n",
    "# --------------------------------"
   ]
  },
  {
   "cell_type": "code",
   "execution_count": 2,
   "metadata": {},
   "outputs": [
    {
     "name": "stdout",
     "output_type": "stream",
     "text": [
      "Primeiro elemento: 1\n",
      "Quarto elemento: quatro\n"
     ]
    }
   ],
   "source": [
    "print(f\"Primeiro elemento: {minha_tupla[0]}\")\n",
    "print(f\"Quarto elemento: {minha_tupla[3]}\")"
   ]
  },
  {
   "cell_type": "markdown",
   "metadata": {},
   "source": [
    "# --------------------------------\n",
    "# 🔹 Tamanho da tupla\n",
    "# --------------------------------"
   ]
  },
  {
   "cell_type": "code",
   "execution_count": 3,
   "metadata": {},
   "outputs": [
    {
     "name": "stdout",
     "output_type": "stream",
     "text": [
      "Tamanho da tupla: 5\n"
     ]
    }
   ],
   "source": [
    "print(f\"Tamanho da tupla: {len(minha_tupla)}\")"
   ]
  },
  {
   "cell_type": "markdown",
   "metadata": {},
   "source": [
    "# --------------------------------\n",
    "# 🔹 Concatenando e repetindo tuplas\n",
    "# --------------------------------"
   ]
  },
  {
   "cell_type": "code",
   "execution_count": 4,
   "metadata": {},
   "outputs": [
    {
     "name": "stdout",
     "output_type": "stream",
     "text": [
      "Tupla concatenada: (1, 2, 3, 'quatro', 5.0, 6, 7, 8)\n",
      "Tupla repetida: (1, 2, 3, 'quatro', 5.0, 1, 2, 3, 'quatro', 5.0, 1, 2, 3, 'quatro', 5.0)\n"
     ]
    }
   ],
   "source": [
    "minha_tupla2 = (6, 7, 8)\n",
    "tupla_concatenada = minha_tupla + minha_tupla2\n",
    "print(f\"Tupla concatenada: {tupla_concatenada}\")\n",
    "\n",
    "tupla_repetida = minha_tupla * 3\n",
    "print(f\"Tupla repetida: {tupla_repetida}\")"
   ]
  },
  {
   "cell_type": "markdown",
   "metadata": {},
   "source": [
    "# --------------------------------\n",
    "# 🔹 Iterando sobre tuplas\n",
    "# --------------------------------"
   ]
  },
  {
   "cell_type": "code",
   "execution_count": 5,
   "metadata": {},
   "outputs": [
    {
     "name": "stdout",
     "output_type": "stream",
     "text": [
      "1\n",
      "2\n",
      "3\n",
      "quatro\n",
      "5.0\n"
     ]
    }
   ],
   "source": [
    "for item in minha_tupla:\n",
    "    print(item)"
   ]
  },
  {
   "cell_type": "markdown",
   "metadata": {},
   "source": [
    "# --------------------------------\n",
    "# 🔹 Iteração com índice (enumerate)\n",
    "# --------------------------------"
   ]
  },
  {
   "cell_type": "code",
   "execution_count": 6,
   "metadata": {},
   "outputs": [
    {
     "name": "stdout",
     "output_type": "stream",
     "text": [
      "0: 1\n",
      "1: 2\n",
      "2: 3\n",
      "3: quatro\n",
      "4: 5.0\n"
     ]
    }
   ],
   "source": [
    "for index, item in enumerate(minha_tupla):\n",
    "    print(f\"{index}: {item}\")"
   ]
  },
  {
   "cell_type": "markdown",
   "metadata": {},
   "source": [
    "# --------------------------------\n",
    "# 🔹 Desempacotamento de tuplas\n",
    "# --------------------------------"
   ]
  },
  {
   "cell_type": "code",
   "execution_count": 7,
   "metadata": {},
   "outputs": [
    {
     "name": "stdout",
     "output_type": "stream",
     "text": [
      "a = 1, d = quatro\n"
     ]
    }
   ],
   "source": [
    "a, b, c, d, e = minha_tupla\n",
    "print(f\"a = {a}, d = {d}\")"
   ]
  },
  {
   "cell_type": "markdown",
   "metadata": {},
   "source": [
    "# --------------------------------\n",
    "# 🔹 Contar e localizar elementos\n",
    "# --------------------------------"
   ]
  },
  {
   "cell_type": "code",
   "execution_count": 8,
   "metadata": {},
   "outputs": [
    {
     "name": "stdout",
     "output_type": "stream",
     "text": [
      "Quantidade de vezes que 1 aparece: 3\n",
      "Índice do elemento 3: 2\n"
     ]
    }
   ],
   "source": [
    "minha_tupla3 = (1, 2, 3, 1, 4, 1)\n",
    "print(f\"Quantidade de vezes que 1 aparece: {minha_tupla3.count(1)}\")\n",
    "\n",
    "print(f\"Índice do elemento 3: {minha_tupla.index(3)}\")"
   ]
  },
  {
   "cell_type": "markdown",
   "metadata": {},
   "source": [
    "# --------------------------------\n",
    "# 🔹 Tuplas como chaves em dicionários\n",
    "# --------------------------------"
   ]
  },
  {
   "cell_type": "code",
   "execution_count": 9,
   "metadata": {},
   "outputs": [
    {
     "name": "stdout",
     "output_type": "stream",
     "text": [
      "Valor da chave (1,2): valor1\n"
     ]
    }
   ],
   "source": [
    "dicionario = {(1, 2): \"valor1\", (3, 4): \"valor2\"}\n",
    "print(f\"Valor da chave (1,2): {dicionario[(1, 2)]}\")"
   ]
  },
  {
   "cell_type": "markdown",
   "metadata": {},
   "source": [
    "# --------------------------------\n",
    "# 🔹 Tuplas aninhadas\n",
    "# --------------------------------"
   ]
  },
  {
   "cell_type": "code",
   "execution_count": 12,
   "metadata": {},
   "outputs": [
    {
     "name": "stdout",
     "output_type": "stream",
     "text": [
      "Primeira tupla aninhada: (1, 2)\n"
     ]
    }
   ],
   "source": [
    "tupla_aninhada = ((1, 2), (3, 4))\n",
    "print(f\"Primeira tupla aninhada: {tupla_aninhada[0]}\")"
   ]
  },
  {
   "cell_type": "markdown",
   "metadata": {},
   "source": [
    "# --------------------------------\n",
    "# 🔹 Conversão para lista\n",
    "# --------------------------------"
   ]
  },
  {
   "cell_type": "code",
   "execution_count": 13,
   "metadata": {},
   "outputs": [
    {
     "name": "stdout",
     "output_type": "stream",
     "text": [
      "Tupla convertida em lista: [1, 2, 3, 'quatro', 5.0]\n"
     ]
    }
   ],
   "source": [
    "lista_convertida = list(minha_tupla)\n",
    "print(f\"Tupla convertida em lista: {lista_convertida}\")"
   ]
  }
 ],
 "metadata": {
  "kernelspec": {
   "display_name": "Python 3",
   "language": "python",
   "name": "python3"
  },
  "language_info": {
   "codemirror_mode": {
    "name": "ipython",
    "version": 3
   },
   "file_extension": ".py",
   "mimetype": "text/x-python",
   "name": "python",
   "nbconvert_exporter": "python",
   "pygments_lexer": "ipython3",
   "version": "3.13.3"
  }
 },
 "nbformat": 4,
 "nbformat_minor": 2
}
